{
 "cells": [
  {
   "cell_type": "markdown",
   "id": "202ae722-4072-49c1-bd8e-e846a37785a3",
   "metadata": {},
   "source": [
    "Q1. Create a Pandas Series that contains the following data: 4, 8, 15, 16, 23, and 42. Then, print the series."
   ]
  },
  {
   "cell_type": "code",
   "execution_count": 7,
   "id": "fc1593a6-2bc7-4505-a0be-0a6e980de156",
   "metadata": {},
   "outputs": [
    {
     "name": "stdout",
     "output_type": "stream",
     "text": [
      "0     4\n",
      "1     8\n",
      "2    15\n",
      "3    16\n",
      "4    23\n",
      "dtype: int64\n"
     ]
    }
   ],
   "source": [
    "import pandas as pd\n",
    " \n",
    "# a simple list\n",
    "\n",
    "# create series form a list\n",
    "ser = pd.Series([4, 8, 15, 16, 23])\n",
    "print(ser)"
   ]
  },
  {
   "cell_type": "markdown",
   "id": "09a6d8f1-c8fc-4e21-b8ee-bcde55fc13d7",
   "metadata": {},
   "source": [
    "Q2. Create a variable of list type containing 10 elements in it, and apply pandas.Series function on the \n",
    "variable print it."
   ]
  },
  {
   "cell_type": "code",
   "execution_count": 10,
   "id": "28df74ed-1fec-4178-840a-61f53075ef99",
   "metadata": {},
   "outputs": [
    {
     "name": "stdout",
     "output_type": "stream",
     "text": [
      "0    11\n",
      "1    12\n",
      "2    13\n",
      "3    14\n",
      "4    15\n",
      "5    16\n",
      "6    17\n",
      "7    18\n",
      "8    19\n",
      "9    20\n",
      "dtype: int64\n"
     ]
    }
   ],
   "source": [
    "list = [11,12,13,14,15,16,17,18,19,20]\n",
    "ser1 = pd.Series(list)\n",
    "print(ser1)"
   ]
  },
  {
   "attachments": {
    "c7deac00-7848-4c1f-8dfc-0834391ab945.png": {
     "image/png": "[encoded data removed]"
    }
   },
   "cell_type": "markdown",
   "id": "c7e06cbe-8614-4d86-801b-1b4d2cee65fc",
   "metadata": {},
   "source": [
    "Q3. Create a Pandas DataFrame that contains the following data:\n",
    "\n",
    "![image.png](attachment:c7deac00-7848-4c1f-8dfc-0834391ab945.png)\n",
    "\n",
    "Then, print the DataFrame."
   ]
  },
  {
   "cell_type": "code",
   "execution_count": 11,
   "id": "00fb29d2-f5be-45fc-b7ad-cf85bb3d3ffe",
   "metadata": {},
   "outputs": [
    {
     "name": "stdout",
     "output_type": "stream",
     "text": [
      "     Name  Age  Gender\n",
      "0   Alice   25  Female\n",
      "1     Bob   30    Male\n",
      "2  Claire   27  Female\n"
     ]
    }
   ],
   "source": [
    "data = [['Alice', 25, 'Female'], ['Bob', 30, 'Male'], ['Claire', 27, 'Female']]\n",
    "df = pd.DataFrame(data, columns=['Name', 'Age', 'Gender'])\n",
    "print(df)"
   ]
  },
  {
   "cell_type": "markdown",
   "id": "3c6662f6-aecf-47d2-bb1d-cd489c2db16b",
   "metadata": {},
   "source": [
    "Q4. What is ‘DataFrame’ in pandas and how is it different from pandas.series? Explain with an example"
   ]
  },
  {
   "cell_type": "markdown",
   "id": "e9f21109-8ec5-4887-90df-3a422e379462",
   "metadata": {},
   "source": [
    "Ans:\n",
    "    \n",
    "    Pandas DataFrame is a 2-dimensional labeled data structure like any table with rows and columns. The size and values of the dataframe are mutable,i.e., can be modified.\n",
    "    \n",
    "    difference between DataFrame and pandas.Series:\n",
    "        DataFrame:\n",
    "        1. Two-dimensional\n",
    "        2. Heterogenous – DataFrame elements can have different data types.\n",
    "        3. Size-mutable – Elements can be dropped or added in an existing DataFrame.\n",
    "        \n",
    "        Series:\n",
    "        1. One-dimensional\n",
    "        2. Homogenous – Series elements must be of the same data type.\n",
    "        3. Size-immutable – Once created, the size of a Series object cannot be changed."
   ]
  },
  {
   "cell_type": "markdown",
   "id": "53eb4b53-5dcb-47bd-8dda-5679b4c7b3ee",
   "metadata": {},
   "source": [
    "Q5. What are some common functions you can use to manipulate data in a Pandas DataFrame? Can \n",
    "you give an example of when you might use one of these functions?"
   ]
  },
  {
   "cell_type": "markdown",
   "id": "d2390af2-2a68-4d69-8554-e9c501531a7b",
   "metadata": {},
   "source": [
    "Ans:\n",
    "    \n",
    "    Some functions are:\n",
    "    .read_csv()\n",
    "    .head()\n",
    "    .shape()"
   ]
  },
  {
   "cell_type": "code",
   "execution_count": 3,
   "id": "27a82b15-617f-4a11-8083-360a4898b642",
   "metadata": {},
   "outputs": [
    {
     "name": "stdout",
     "output_type": "stream",
     "text": [
      "                    John       Doe                 120 jefferson st.  \\\n",
      "0                   Jack  McGinnis                      220 hobo Av.   \n",
      "1          John \"Da Man\"    Repici                 120 Jefferson St.   \n",
      "2                Stephen     Tyler  7452 Terrace \"At the Plaza\" road   \n",
      "3                    NaN  Blankman                               NaN   \n",
      "4  Joan \"the bone\", Anne       Jet               9th, at Terrace plc   \n",
      "\n",
      "     Riverside   NJ   08075  \n",
      "0        Phila   PA    9119  \n",
      "1    Riverside   NJ    8075  \n",
      "2     SomeTown   SD   91234  \n",
      "3     SomeTown   SD     298  \n",
      "4  Desert City   CO     123  \n"
     ]
    }
   ],
   "source": [
    "# reading a .csv file\n",
    "import pandas as pd\n",
    "df = pd.read_csv(\"addresses.csv\")\n",
    "print(df)"
   ]
  },
  {
   "cell_type": "markdown",
   "id": "15685f03-bb50-4fc8-b2cf-cb84237a9466",
   "metadata": {},
   "source": [
    "Q6. Which of the following is mutable in nature Series, DataFrame, Panel?"
   ]
  },
  {
   "cell_type": "markdown",
   "id": "24f6ebbb-d800-4cec-9782-640b8c21454f",
   "metadata": {},
   "source": [
    "Ans: \n",
    "    \n",
    "    All Series, DtaFrame and Panel are mutable by value."
   ]
  },
  {
   "cell_type": "markdown",
   "id": "51294527-d30e-4862-ad57-d24db25eb990",
   "metadata": {},
   "source": [
    "Q7. Create a DataFrame using multiple Series. Explain with an example."
   ]
  },
  {
   "cell_type": "code",
   "execution_count": 7,
   "id": "ccfb658e-96ba-454d-b959-259ac4ac1753",
   "metadata": {},
   "outputs": [
    {
     "name": "stdout",
     "output_type": "stream",
     "text": [
      "    Name  Age\n",
      "0  Jenny   21\n",
      "1    Joe   18\n",
      "2   Jack   23\n",
      "3   Mike   29\n"
     ]
    }
   ],
   "source": [
    "name = ['Jenny', 'Joe', 'Jack', 'Mike']\n",
    "age = [21, 18, 23, 29]\n",
    "\n",
    "name_series = pd.Series(name)\n",
    "age_series = pd.Series(age)\n",
    "\n",
    "data = {'Name':name_series, 'Age':age_series}\n",
    "dataframe = pd.DataFrame(data)\n",
    "print(dataframe)"
   ]
  },
  {
   "cell_type": "code",
   "execution_count": null,
   "id": "6722c975-96e9-48f6-bcf5-00f52fdd7598",
   "metadata": {},
   "outputs": [],
   "source": []
  }
 ],
 "metadata": {
  "kernelspec": {
   "display_name": "Python 3 (ipykernel)",
   "language": "python",
   "name": "python3"
  },
  "language_info": {
   "codemirror_mode": {
    "name": "ipython",
    "version": 3
   },
   "file_extension": ".py",
   "mimetype": "text/x-python",
   "name": "python",
   "nbconvert_exporter": "python",
   "pygments_lexer": "ipython3",
   "version": "3.10.8"
  }
 },
 "nbformat": 4,
 "nbformat_minor": 5
}
